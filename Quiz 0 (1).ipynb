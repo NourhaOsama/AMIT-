{
 "cells": [
  {
   "cell_type": "markdown",
   "id": "4325ab3d-f2b9-40bc-ae08-8abbe5479c19",
   "metadata": {},
   "source": [
    "# Craet List "
   ]
  },
  {
   "cell_type": "code",
   "execution_count": null,
   "id": "8c4fc34c-b1e7-4b67-ad00-1de1265a9947",
   "metadata": {},
   "outputs": [],
   "source": []
  },
  {
   "cell_type": "code",
   "execution_count": 15,
   "id": "4219152c-5583-4cde-813a-55f25b84c9e6",
   "metadata": {},
   "outputs": [
    {
     "name": "stdout",
     "output_type": "stream",
     "text": [
      "['nourhan', 'osama', 'ahmad', 'nooo']\n"
     ]
    }
   ],
   "source": [
    "lst=[\"nourhan\",\"osama\",\"ahmad\"]\n",
    "lst.append(\"nooo\")\n",
    "print(lst)"
   ]
  },
  {
   "cell_type": "code",
   "execution_count": 6,
   "id": "027ae0f2-e624-415a-ba1a-b40ec6f2d715",
   "metadata": {},
   "outputs": [
    {
     "name": "stdout",
     "output_type": "stream",
     "text": [
      "8\n"
     ]
    }
   ],
   "source": [
    "lst1=[1,3,4]\n",
    "x=lst1[0]\n",
    "y=lst1[1]\n",
    "z=lst1[2]\n",
    "print(x+y+z)"
   ]
  },
  {
   "cell_type": "code",
   "execution_count": 7,
   "id": "c18508d4-fb0d-49fe-b961-50b4d5219dbb",
   "metadata": {},
   "outputs": [
    {
     "name": "stdout",
     "output_type": "stream",
     "text": [
      "7\n"
     ]
    }
   ],
   "source": [
    "lst1=[1,3,4]\n",
    "x=lst1[0]\n",
    "y=lst1[1]\n",
    "z=lst1[2]\n",
    "print((x*y)+z)"
   ]
  },
  {
   "cell_type": "code",
   "execution_count": 9,
   "id": "005cac4e-35d2-4ce4-9af9-e80eb819aea1",
   "metadata": {},
   "outputs": [
    {
     "name": "stdout",
     "output_type": "stream",
     "text": [
      "1\n",
      "3\n",
      "4\n"
     ]
    }
   ],
   "source": [
    "for x in lst1:\n",
    "    print(x)"
   ]
  },
  {
   "cell_type": "code",
   "execution_count": null,
   "id": "c556e008-12b5-468d-99ce-8227403089ee",
   "metadata": {},
   "outputs": [],
   "source": []
  },
  {
   "cell_type": "markdown",
   "id": "6b9cba33-d2ca-4d10-9fc0-226850dc7dbc",
   "metadata": {},
   "source": [
    "# Creat Tuple "
   ]
  },
  {
   "cell_type": "code",
   "execution_count": null,
   "id": "da810c14-e40e-46a0-b337-1010af0e8e96",
   "metadata": {},
   "outputs": [],
   "source": []
  },
  {
   "cell_type": "code",
   "execution_count": 17,
   "id": "162e0077-2196-46b8-a23e-789aa1864cda",
   "metadata": {},
   "outputs": [
    {
     "name": "stdout",
     "output_type": "stream",
     "text": [
      "('nourhan', 'osama', 'ahmad')\n"
     ]
    }
   ],
   "source": [
    "tupl=(\"nourhan\",\"osama\",\"ahmad\")\n",
    "print(tupl)"
   ]
  },
  {
   "cell_type": "code",
   "execution_count": 14,
   "id": "03f1e684-b336-407e-8ff4-07d6571c84ba",
   "metadata": {},
   "outputs": [
    {
     "name": "stdout",
     "output_type": "stream",
     "text": [
      "3\n"
     ]
    }
   ],
   "source": [
    "print(len(tupl))"
   ]
  },
  {
   "cell_type": "code",
   "execution_count": null,
   "id": "0ef75641-af00-4ad8-867e-db88c68e76da",
   "metadata": {},
   "outputs": [],
   "source": []
  },
  {
   "cell_type": "markdown",
   "id": "ce9ad941-41b4-4dbb-b7f4-bba17b4e9395",
   "metadata": {},
   "source": [
    "# Change the type of int to float "
   ]
  },
  {
   "cell_type": "code",
   "execution_count": 1,
   "id": "b22c31db-c59f-4877-9b80-87c72aa90475",
   "metadata": {},
   "outputs": [
    {
     "name": "stdout",
     "output_type": "stream",
     "text": [
      "3.0\n"
     ]
    }
   ],
   "source": [
    "x=3\n",
    "y=float(x)\n",
    "print(y)"
   ]
  },
  {
   "cell_type": "code",
   "execution_count": null,
   "id": "3f2da71a-df81-45a0-8485-50251b4af3bb",
   "metadata": {},
   "outputs": [],
   "source": []
  },
  {
   "cell_type": "code",
   "execution_count": null,
   "id": "15a48973-4605-4ff8-9cb1-ecf991eefb86",
   "metadata": {},
   "outputs": [],
   "source": []
  },
  {
   "cell_type": "markdown",
   "id": "810d4461-9eba-4858-ad4f-46baf5048e7c",
   "metadata": {},
   "source": [
    "# Change the type of List to Tuple "
   ]
  },
  {
   "cell_type": "code",
   "execution_count": 19,
   "id": "3ca1a30e-ed39-4f4b-b6dc-36bc85210739",
   "metadata": {},
   "outputs": [
    {
     "name": "stdout",
     "output_type": "stream",
     "text": [
      "['nourhan', 'osama', 'ahmad', 'nooo']\n"
     ]
    }
   ],
   "source": [
    "conv=(lst)\n",
    "print(conv)"
   ]
  },
  {
   "cell_type": "code",
   "execution_count": null,
   "id": "fdfa0832-e176-4943-a742-74ebf2bd782d",
   "metadata": {},
   "outputs": [],
   "source": []
  },
  {
   "cell_type": "code",
   "execution_count": 21,
   "id": "87ef21f3-3720-4f3b-b132-c07b8f9877c8",
   "metadata": {},
   "outputs": [
    {
     "name": "stdout",
     "output_type": "stream",
     "text": [
      "[['nourhan', 'osama', 'ahmad', 'nooo'], '333']\n"
     ]
    }
   ],
   "source": [
    "ret=[conv]\n",
    "ret.append(\"333\")\n",
    "print(ret)"
   ]
  },
  {
   "cell_type": "code",
   "execution_count": null,
   "id": "f81117b6-987d-4d3a-a192-7f706f60f7b0",
   "metadata": {},
   "outputs": [],
   "source": [
    "# ازاي اشيل الاقواس وبعد كدا اضيف 333 ؟"
   ]
  },
  {
   "cell_type": "markdown",
   "id": "21414b68-a64b-44bf-946e-83b2c361563c",
   "metadata": {},
   "source": [
    "# Calculate the area of the rectangle"
   ]
  },
  {
   "cell_type": "markdown",
   "id": "3d0c3459-f191-4e4b-b0bd-e158dec4dee7",
   "metadata": {},
   "source": [
    "height = 8 , width = 4"
   ]
  },
  {
   "cell_type": "code",
   "execution_count": 1,
   "id": "e80b8e03-a937-49f1-bb96-949305a6323d",
   "metadata": {},
   "outputs": [
    {
     "data": {
      "text/plain": [
       "32"
      ]
     },
     "execution_count": 1,
     "metadata": {},
     "output_type": "execute_result"
    }
   ],
   "source": [
    "8*4"
   ]
  },
  {
   "cell_type": "code",
   "execution_count": null,
   "id": "ea557771-5566-4010-a44f-44a83fb828e6",
   "metadata": {},
   "outputs": [],
   "source": []
  },
  {
   "cell_type": "code",
   "execution_count": null,
   "id": "5a51b0c0-8672-4aa2-83a0-a4e21964a91f",
   "metadata": {},
   "outputs": [],
   "source": []
  },
  {
   "cell_type": "markdown",
   "id": "1cdffa9b-dad4-4768-bafa-c0474cafb841",
   "metadata": {},
   "source": [
    "# Give me the 9 "
   ]
  },
  {
   "cell_type": "code",
   "execution_count": 1,
   "id": "e897d1b9-42b8-4fa0-920d-91b2fcfc4bf4",
   "metadata": {},
   "outputs": [],
   "source": [
    "lis1 = [3,5,6]\n",
    "lis2 = [8,67,[6,5,[33,8,9]]]\n",
    "lis3 = [3,12,56]"
   ]
  },
  {
   "cell_type": "code",
   "execution_count": 4,
   "id": "04df55e8-4871-420b-beab-335cb84560c1",
   "metadata": {},
   "outputs": [],
   "source": [
    "matrix = [lis1,lis2,lis3]"
   ]
  },
  {
   "cell_type": "code",
   "execution_count": 5,
   "id": "52b8b48c-2b43-4f3c-b1ce-f8165b0a8177",
   "metadata": {},
   "outputs": [
    {
     "data": {
      "text/plain": [
       "[[3, 5, 6], [8, 67, [6, 5, [33, 8, 9]]], [3, 12, 56]]"
      ]
     },
     "execution_count": 5,
     "metadata": {},
     "output_type": "execute_result"
    }
   ],
   "source": [
    "matrix"
   ]
  },
  {
   "cell_type": "code",
   "execution_count": null,
   "id": "07bfa5bf-e146-4877-a4be-90d2293e5cc1",
   "metadata": {},
   "outputs": [],
   "source": []
  },
  {
   "cell_type": "code",
   "execution_count": 8,
   "id": "e2068a62-9679-418d-91e2-b7fe41a4ae25",
   "metadata": {},
   "outputs": [
    {
     "name": "stdout",
     "output_type": "stream",
     "text": [
      "9\n"
     ]
    }
   ],
   "source": [
    "mat1=matrix[1][2]\n",
    "mat2=mat1[2][2]\n",
    "print(mat2)"
   ]
  },
  {
   "cell_type": "code",
   "execution_count": null,
   "id": "82baf1b6-750a-41f8-bfcc-d14a9e597bb7",
   "metadata": {},
   "outputs": [],
   "source": []
  }
 ],
 "metadata": {
  "kernelspec": {
   "display_name": "Python 3 (ipykernel)",
   "language": "python",
   "name": "python3"
  },
  "language_info": {
   "codemirror_mode": {
    "name": "ipython",
    "version": 3
   },
   "file_extension": ".py",
   "mimetype": "text/x-python",
   "name": "python",
   "nbconvert_exporter": "python",
   "pygments_lexer": "ipython3",
   "version": "3.9.12"
  }
 },
 "nbformat": 4,
 "nbformat_minor": 5
}
